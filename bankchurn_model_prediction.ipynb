{
 "cells": [
  {
   "cell_type": "markdown",
   "metadata": {},
   "source": [
    "\n",
    "\n",
    "## Table of contents\n",
    "1. Load the raw data and remove unnessasary data\n",
    "2. Feature engineering\n",
    "3. Establish an XGB classification model based on feature engineering\n",
    "4. Conclusion\n"
   ]
  },
  {
   "cell_type": "code",
   "execution_count": 69,
   "metadata": {},
   "outputs": [],
   "source": [
    "#import libraries\n",
    "import pandas as pd\n",
    "import numpy as np\n",
    "import sklearn as sk\n",
    "from sklearn.preprocessing import StandardScaler\n",
    "from sklearn.preprocessing import OneHotEncoder\n",
    "import sklearn.metrics\n",
    "\n",
    "import matplotlib.pyplot as plt\n",
    "\n",
    "\n",
    "from sklearn.model_selection import train_test_split\n",
    "from scipy.stats import uniform\n",
    "\n",
    "\n",
    "from sklearn.model_selection import cross_val_score\n",
    "\n",
    "import xgboost as xgb\n",
    "\n",
    "from xgboost import XGBClassifier\n",
    "from sklearn.model_selection import train_test_split\n",
    "from sklearn.metrics import accuracy_score, classification_report\n",
    "\n",
    "import optuna\n",
    "\n",
    "import warnings\n",
    "warnings.filterwarnings(\"ignore\")\n",
    "\n",
    "#your info here\n",
    "__author__ = \"Hwayoung Jung\"\n",
    "__email__ = \"whyyoungjung@gmail.com\"\n"
   ]
  },
  {
   "cell_type": "markdown",
   "metadata": {},
   "source": [
    "1. Load the raw data and remove unnessasary data based on EDA."
   ]
  },
  {
   "cell_type": "code",
   "execution_count": 70,
   "metadata": {},
   "outputs": [],
   "source": [
    "\n",
    "data = pd.read_csv(\"Bank Customer Churn Prediction.csv\")\n",
    "\n",
    "reduced_data = data.drop(['customer_id','country','tenure', 'credit_card', 'estimated_salary'],axis=1)"
   ]
  },
  {
   "cell_type": "code",
   "execution_count": 71,
   "metadata": {},
   "outputs": [],
   "source": [
    "x_train = reduced_data.drop(['churn'], axis=1)\n",
    "y_train = reduced_data['churn']"
   ]
  },
  {
   "cell_type": "markdown",
   "metadata": {},
   "source": [
    "2. Feature engineering"
   ]
  },
  {
   "cell_type": "code",
   "execution_count": 72,
   "metadata": {},
   "outputs": [],
   "source": [
    "# feature engineering function\n",
    "\n",
    "def fe(data):\n",
    "    age_groups = [0, 20, 30, 40, 50, 60, 100] # considering age distribution, clump ages between 0~ 20 and 60 and 100\n",
    "    age_group_names = [1,2,3,4,5,6]\n",
    "\n",
    "    data['age_group'] = pd.cut(data['age'], bins=age_groups, labels=age_group_names)\n",
    "    data['age_group'] = data['age_group'].astype(int)\n",
    "\n",
    "    data.loc[(data.age > 39) & (data.age < 60),'midage']=1\n",
    "    data.loc[~((data.age > 39) & (data.age < 60)),'midage']=0\n",
    "    return data\n"
   ]
  },
  {
   "cell_type": "code",
   "execution_count": 73,
   "metadata": {},
   "outputs": [],
   "source": [
    "x_train = fe(x_train)"
   ]
  },
  {
   "cell_type": "code",
   "execution_count": 74,
   "metadata": {},
   "outputs": [
    {
     "name": "stdout",
     "output_type": "stream",
     "text": [
      "Categorical Columns: \n",
      "['gender']\n",
      "\n",
      " Numeric Columns: \n",
      "['credit_score', 'age', 'balance', 'products_number', 'active_member', 'age_group', 'midage']\n",
      "\n"
     ]
    }
   ],
   "source": [
    "cat_columns = [c for c, t in zip(x_train.dtypes.index, x_train.dtypes) if (t == 'object' or t == 'category')] \n",
    "num_columns = [c for c in x_train.columns if c not in cat_columns]\n",
    "print('Categorical Columns: \\n{}\\n\\n Numeric Columns: \\n{}\\n'.format(cat_columns, num_columns))"
   ]
  },
  {
   "cell_type": "code",
   "execution_count": 75,
   "metadata": {},
   "outputs": [],
   "source": [
    "# pre-processing function\n",
    "\n",
    "\n",
    "def preprocess(x_t_train, x_t_valid):\n",
    "    x_t_train.reset_index(drop=True, inplace=True)\n",
    "    x_t_valid.reset_index(drop=True, inplace=True)\n",
    "\n",
    "    # feature scaling\n",
    "    scaler = StandardScaler()\n",
    "    x_t_train[num_columns] = scaler.fit_transform(x_t_train[num_columns])\n",
    "    x_t_valid[num_columns] = scaler.transform(x_t_valid[num_columns])\n",
    "\n",
    "    # feature encoding\n",
    "    ohe = OneHotEncoder(sparse=False, handle_unknown='ignore')\n",
    "    x_t_train_cat = pd.DataFrame(\n",
    "        data = ohe.fit_transform(x_t_train[cat_columns]),\n",
    "        columns=ohe.get_feature_names_out())\n",
    "    x_t_valid_cat =  pd.DataFrame(\n",
    "        data = ohe.transform(x_t_valid[cat_columns]),\n",
    "        columns=ohe.get_feature_names_out())\n",
    "\n",
    "\n",
    "    x_t_train = pd.concat([x_t_train[num_columns], x_t_train_cat], axis=1)\n",
    "    x_t_valid = pd.concat([x_t_valid[num_columns], x_t_valid_cat], axis=1)\n",
    "\n",
    "    return x_t_train, x_t_valid"
   ]
  },
  {
   "cell_type": "markdown",
   "metadata": {},
   "source": [
    "3. Establish an XGB classification model based on feature engineering"
   ]
  },
  {
   "cell_type": "code",
   "execution_count": 76,
   "metadata": {},
   "outputs": [],
   "source": [
    "#https://practicaldatascience.co.uk/machine-learning/how-to-use-optuna-for-xgboost-hyperparameter-tuning\n",
    "\n",
    "# used auprc as an evaluation metric to tackle imbalanced data (https://towardsdatascience.com/imbalanced-data-stop-using-roc-auc-and-use-auprc-instead-46af4910a494)\n",
    "from xgboost import XGBClassifier\n",
    "\n",
    "def objective(trial):\n",
    "    \"\"\"Define the objective function\"\"\"\n",
    "\n",
    "    params = {\n",
    "        'max_depth': trial.suggest_int('max_depth', 1, 9),\n",
    "        'learning_rate': trial.suggest_loguniform('learning_rate', 0.01, 1.0),\n",
    "        'n_estimators': trial.suggest_int('n_estimators', 50, 500),\n",
    "        'min_child_weight': trial.suggest_int('min_child_weight', 1, 10),\n",
    "        'gamma': trial.suggest_loguniform('gamma', 1e-8, 1.0),\n",
    "        'subsample': trial.suggest_loguniform('subsample', 0.01, 1.0),\n",
    "        'colsample_bytree': trial.suggest_loguniform('colsample_bytree', 0.01, 1.0),\n",
    "        'reg_alpha': trial.suggest_loguniform('reg_alpha', 1e-8, 1.0),\n",
    "        'reg_lambda': trial.suggest_loguniform('reg_lambda', 1e-8, 1.0),\n",
    "    }\n",
    "\n",
    "\n",
    "# Fit the model\n",
    "    optuna.logging.set_verbosity(optuna.logging.ERROR)\n",
    "\n",
    "    model = XGBClassifier(**params)\n",
    "    model.fit(x_t_train, y_t_train, eval_metric='aucpr', eval_set=[(x_t_train, y_t_train), (x_t_valid, y_t_valid)],early_stopping_rounds=100, verbose = 0)\n",
    "\n",
    "    # Make predictions (not actual value, predict \"probability\"!)\n",
    "    y_pred_prob = model.predict_proba(x_t_valid)\n",
    "\n",
    "    # Evaluate predictions\n",
    "    auprc = sklearn.metrics.average_precision_score(y_t_valid, y_pred_prob[:,1])\n",
    "    return auprc\n"
   ]
  },
  {
   "cell_type": "code",
   "execution_count": 77,
   "metadata": {},
   "outputs": [],
   "source": [
    "from xgboost import XGBClassifier\n",
    "\n",
    "\n",
    "\n",
    "x_t_train, x_t_valid, y_t_train, y_t_valid = train_test_split(x_train,y_train)\n",
    "x_t_train, x_t_valid = preprocess(x_t_train, x_t_valid)\n",
    "\n",
    "\n",
    "# Fit the model to find a best set of hyperparameters\n",
    "study = optuna.create_study(direction='maximize')\n",
    "study.optimize(objective, n_trials=100)\n"
   ]
  },
  {
   "cell_type": "code",
   "execution_count": 78,
   "metadata": {},
   "outputs": [
    {
     "name": "stdout",
     "output_type": "stream",
     "text": [
      "Average AUPRC: 0.6822\n"
     ]
    }
   ],
   "source": [
    "# re-run model with the best set of parameters and calculate average MSE between cross validation sets\n",
    "best_params = study.best_params\n",
    "\n",
    "\n",
    "\n",
    "from sklearn.model_selection import KFold\n",
    "\n",
    "\n",
    "kf = KFold(n_splits=5, random_state=42, shuffle=True)\n",
    "\n",
    "\n",
    "val_scores = list()\n",
    "#oof_pred = np.zeros((test.shape[0], ))\n",
    "\n",
    "for i, (trn_idx, val_idx) in enumerate(kf.split(x_train, y_train)):\n",
    "    x_t_train, y_t_train = x_train.iloc[trn_idx, :], y_train[trn_idx]\n",
    "    x_t_valid, y_t_valid = x_train.iloc[val_idx, :], y_train[val_idx]\n",
    "\n",
    "    x_t_train, x_t_valid = preprocess(x_t_train, x_t_valid)\n",
    "\n",
    "    model = XGBClassifier(**best_params)\n",
    "    model.fit(x_t_train, y_t_train, eval_metric='aucpr', eval_set=[(x_t_train, y_t_train), (x_t_valid, y_t_valid)],early_stopping_rounds=100, verbose = 0)\n",
    "\n",
    "    # Make predictions (not actual value, predict \"probability\"!)\n",
    "    y_pred_prob = model.predict_proba(x_t_valid)\n",
    "\n",
    "    # Evaluate predictions\n",
    "    auprc = sklearn.metrics.average_precision_score(y_t_valid, y_pred_prob[:,1])\n",
    "    val_scores.append(auprc)\n",
    "\n",
    "print('Average AUPRC: {:.4f}'.format(np.mean(val_scores)))"
   ]
  },
  {
   "cell_type": "code",
   "execution_count": 79,
   "metadata": {},
   "outputs": [],
   "source": [
    "from sklearn import metrics\n",
    "# evaluation metric: auc\n",
    "model = XGBClassifier(**best_params)\n",
    "model.fit(x_t_train, y_t_train, eval_metric='auc', eval_set=[(x_t_train, y_t_train), (x_t_valid, y_t_valid)],early_stopping_rounds=100, verbose = 0)\n",
    "# Make predictions (not actual value, predict \"probability\"!)\n",
    "y_pred_prob = model.predict_proba(x_t_valid)\n",
    "roc_auc = metrics.roc_auc_score(y_t_valid, y_pred_prob[:, 1])"
   ]
  },
  {
   "cell_type": "code",
   "execution_count": 80,
   "metadata": {},
   "outputs": [
    {
     "data": {
      "text/plain": [
       "0.8458874060438717"
      ]
     },
     "execution_count": 80,
     "metadata": {},
     "output_type": "execute_result"
    }
   ],
   "source": [
    "roc_auc"
   ]
  },
  {
   "cell_type": "code",
   "execution_count": 81,
   "metadata": {},
   "outputs": [],
   "source": [
    "fpr, tpr, _ = metrics.roc_curve(y_t_valid,  y_pred_prob[:,1])\n"
   ]
  },
  {
   "cell_type": "code",
   "execution_count": 82,
   "metadata": {},
   "outputs": [
    {
     "data": {
      "image/png": "[encoded data removed]",
      "text/plain": [
       "<Figure size 432x288 with 1 Axes>"
      ]
     },
     "metadata": {
      "needs_background": "light"
     },
     "output_type": "display_data"
    }
   ],
   "source": [
    "#create ROC curve\n",
    "plt.plot(fpr,tpr)\n",
    "plt.ylabel('True Positive Rate')\n",
    "plt.xlabel('False Positive Rate')\n",
    "plt.show()"
   ]
  },
  {
   "cell_type": "markdown",
   "metadata": {},
   "source": [
    "4. Conclusion\n",
    "\n",
    "Using optuna model optimization with XGBoost Classifier, auc score of 0.85 was obtained, which indicates this model robustly predicts customer churn rate. Also, average AUCPR across K-folds was 0.682. AUCPR was used as an evaluation metric to handle imbalanced data."
   ]
  }
 ],
 "metadata": {
  "kernelspec": {
   "display_name": "Python 3.9.12 ('base')",
   "language": "python",
   "name": "python3"
  },
  "language_info": {
   "codemirror_mode": {
    "name": "ipython",
    "version": 3
   },
   "file_extension": ".py",
   "mimetype": "text/x-python",
   "name": "python",
   "nbconvert_exporter": "python",
   "pygments_lexer": "ipython3",
   "version": "3.9.12"
  },
  "orig_nbformat": 4,
  "vscode": {
   "interpreter": {
    "hash": "ba0b272013dadec1c6b9bbf8638e50f3050923b41683b2d9ec5372e4c22285e1"
   }
  }
 },
 "nbformat": 4,
 "nbformat_minor": 2
}
